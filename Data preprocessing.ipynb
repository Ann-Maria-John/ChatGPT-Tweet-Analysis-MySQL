{
 "cells": [
  {
   "cell_type": "markdown",
   "id": "899f0211-4bfc-42fa-8800-e9852cd023a6",
   "metadata": {},
   "source": [
    "### SJSU ChatGPT Tweets Analysis"
   ]
  },
  {
   "cell_type": "code",
   "execution_count": null,
   "id": "432ebe52-b212-4510-858f-0493b0f9640e",
   "metadata": {},
   "outputs": [],
   "source": [
    "#import libraries\n",
    "\n",
    "import pandas as pd\n",
    "import numpy as np"
   ]
  },
  {
   "cell_type": "code",
   "execution_count": null,
   "id": "be8dbcef-6a11-45ce-9eca-be2649c93a80",
   "metadata": {},
   "outputs": [],
   "source": [
    "df = pd.read_csv('chatgpt1.csv')\n",
    "df.head()"
   ]
  },
  {
   "cell_type": "code",
   "execution_count": null,
   "id": "8bcf7e09-3bab-4cf7-9567-dac4a65407be",
   "metadata": {},
   "outputs": [],
   "source": [
    "df.shape"
   ]
  },
  {
   "cell_type": "code",
   "execution_count": null,
   "id": "04763eeb-93e0-4c97-9bd4-4a163b25ade1",
   "metadata": {},
   "outputs": [],
   "source": [
    "df.duplicated().sum()\n",
    "\n",
    "#no duplicates values found"
   ]
  },
  {
   "cell_type": "code",
   "execution_count": null,
   "id": "c6588425-8b23-4cb7-bfff-fa0a1b55005b",
   "metadata": {},
   "outputs": [],
   "source": [
    "df.columns.values.tolist()"
   ]
  },
  {
   "cell_type": "code",
   "execution_count": null,
   "id": "7b8757a9-49ed-423d-9767-b2efa0aac9f0",
   "metadata": {},
   "outputs": [],
   "source": [
    "df.info()"
   ]
  },
  {
   "cell_type": "code",
   "execution_count": null,
   "id": "08ca007d-ff70-46c6-873f-d64ba4cef813",
   "metadata": {},
   "outputs": [],
   "source": [
    "df.isnull().sum()\n",
    "\n",
    "#Outlinks, Countlinks, Media, QuotedTweet, MentionedUsers have null values\n",
    "#These null values will not be imputed as some tweets might not have outlinks, media, mentioned users, etc."
   ]
  },
  {
   "cell_type": "markdown",
   "id": "8e2b7d3c-5d82-43a8-8046-825bdeff627f",
   "metadata": {},
   "source": [
    "### Data Preprocessing"
   ]
  },
  {
   "cell_type": "code",
   "execution_count": null,
   "id": "a9f2a209-5feb-4074-8d25-76e033a24733",
   "metadata": {},
   "outputs": [],
   "source": [
    "df1 = df.copy()"
   ]
  },
  {
   "cell_type": "code",
   "execution_count": null,
   "id": "505752b9-494c-4b53-a6ac-77f1e2f31851",
   "metadata": {},
   "outputs": [],
   "source": [
    "df1.head()"
   ]
  },
  {
   "cell_type": "code",
   "execution_count": null,
   "id": "a524a464-8c21-4aef-bd63-9236a74c9d50",
   "metadata": {},
   "outputs": [],
   "source": [
    "#renaming column names"
   ]
  },
  {
   "cell_type": "code",
   "execution_count": null,
   "id": "63945f56-b6f6-424d-b77b-89ed5d30d103",
   "metadata": {},
   "outputs": [],
   "source": [
    "df1.columns = [x.lower() for x in df1.columns]"
   ]
  },
  {
   "cell_type": "code",
   "execution_count": null,
   "id": "c29a387c-192a-4d6a-bf30-d17f2980a63d",
   "metadata": {},
   "outputs": [],
   "source": [
    "df1.columns"
   ]
  },
  {
   "cell_type": "code",
   "execution_count": null,
   "id": "137a10fa-11b8-49f9-a155-5177dec11236",
   "metadata": {},
   "outputs": [],
   "source": [
    "df1.rename(columns = {'tweet Id' : 'tweet_id', 'text' : 'tweet', 'permalink' : 'tweet_link', 'user' : 'user_handle', \n",
    "                      'countlinks' : 'mentioned_link', 'replycount' : 'reply_count', 'retweetcount' : 'retweet_count', \n",
    "                      'likecount' : 'like_count', 'quotecount' : 'quote_count', 'conversationid' : 'conversation_id', \n",
    "                      'source' : 'source_link', 'media' : 'media_present', 'mentionedusers' : 'mentioned_users'}, inplace = True)"
   ]
  },
  {
   "cell_type": "code",
   "execution_count": null,
   "id": "2159df20-657b-4665-9459-e1da9b4b1010",
   "metadata": {},
   "outputs": [],
   "source": [
    "df1.columns"
   ]
  },
  {
   "cell_type": "code",
   "execution_count": null,
   "id": "6aed691c-39f4-4377-acb8-fded441c3ce9",
   "metadata": {},
   "outputs": [],
   "source": [
    "#countlinks alias or short link for outlinks\n",
    "#dropping column outlinks"
   ]
  },
  {
   "cell_type": "code",
   "execution_count": null,
   "id": "ad3343dd-37ee-4716-9fae-3bd2f4f4ae83",
   "metadata": {},
   "outputs": [],
   "source": [
    "df1.drop('outlinks', axis=1, inplace = True)"
   ]
  },
  {
   "cell_type": "code",
   "execution_count": null,
   "id": "ffdd5629-7a6a-467b-ac99-26515cded24d",
   "metadata": {},
   "outputs": [],
   "source": [
    "#dropping languages other than English"
   ]
  },
  {
   "cell_type": "code",
   "execution_count": null,
   "id": "c6b7ad09-72bc-43b9-9d33-6f3e58a6af45",
   "metadata": {},
   "outputs": [],
   "source": [
    "df1.drop(df1.loc[df1['language'] != 'en'].index, inplace = True)"
   ]
  },
  {
   "cell_type": "code",
   "execution_count": null,
   "id": "a0ce51b3-2db9-41ca-b118-1552c6ab1a71",
   "metadata": {},
   "outputs": [],
   "source": [
    "df1.shape"
   ]
  },
  {
   "cell_type": "code",
   "execution_count": null,
   "id": "0c270abe-9814-4b5f-9507-fa2baa2b3b99",
   "metadata": {},
   "outputs": [],
   "source": [
    "#ASCII cannot support complex characters that make up other language\n",
    "#Dropping languages other than English"
   ]
  },
  {
   "cell_type": "code",
   "execution_count": null,
   "id": "6fa0bb9a-9132-404b-8e5b-e11c5aae269a",
   "metadata": {},
   "outputs": [],
   "source": [
    "#Removing emojis\n",
    "#Emojis are encoded in the Unicode Standard"
   ]
  },
  {
   "cell_type": "code",
   "execution_count": null,
   "id": "15b78a80-4cee-451d-acb0-2d7c17c3bb54",
   "metadata": {},
   "outputs": [],
   "source": [
    "df1 = df1.astype(str).apply(lambda x: x.str.encode(encoding = 'ascii', errors = 'ignore').str.decode('ascii'))"
   ]
  },
  {
   "cell_type": "code",
   "execution_count": null,
   "id": "b6b60662-0935-40a0-9a6d-176eca3ce0fa",
   "metadata": {},
   "outputs": [],
   "source": [
    "df1.head()"
   ]
  },
  {
   "cell_type": "code",
   "execution_count": null,
   "id": "80c8867d-eec9-46ce-b8b4-923a8fbdd08b",
   "metadata": {},
   "outputs": [],
   "source": [
    "#Splitting Datetime attribute to date and time\n",
    "#Storing Date as a new attribute"
   ]
  },
  {
   "cell_type": "code",
   "execution_count": null,
   "id": "189796f1-c80a-4c7e-87d2-d0e0d97d44eb",
   "metadata": {},
   "outputs": [],
   "source": [
    "date_time_split = df1['datetime'].str.split(' ', n = 1, expand = True)"
   ]
  },
  {
   "cell_type": "code",
   "execution_count": null,
   "id": "0aa35399-2350-4f66-9d57-35602188250a",
   "metadata": {},
   "outputs": [],
   "source": [
    "df1['date'] = date_time_split[0]"
   ]
  },
  {
   "cell_type": "code",
   "execution_count": null,
   "id": "cedb89cc-d2f4-4ea5-87e6-5d4b82bfbf3e",
   "metadata": {},
   "outputs": [],
   "source": [
    "df1.drop('datetime', axis=1, inplace = True)"
   ]
  },
  {
   "cell_type": "code",
   "execution_count": null,
   "id": "17047d81-d59d-46de-b951-1fe4297235cf",
   "metadata": {},
   "outputs": [],
   "source": [
    "df1['date'].unique()\n",
    "\n",
    "#3 uniue date values"
   ]
  },
  {
   "cell_type": "code",
   "execution_count": null,
   "id": "af8c263b-09fb-4f9d-9a5f-a2baea893969",
   "metadata": {},
   "outputs": [],
   "source": [
    "df1['source_link'].unique()\n",
    "\n",
    "#3 uniue date values"
   ]
  },
  {
   "cell_type": "code",
   "execution_count": null,
   "id": "082a69a2-517f-459e-a1e6-67da3945d6c3",
   "metadata": {},
   "outputs": [],
   "source": [
    "#drop source\n",
    "df.drop('source_link', axis=1, inplace=True)"
   ]
  },
  {
   "cell_type": "code",
   "execution_count": null,
   "id": "2a2eb5c7-a48d-4efe-bf9c-9ea446692b33",
   "metadata": {},
   "outputs": [],
   "source": [
    "#replace empty square brackets in hashtag column with Null"
   ]
  },
  {
   "cell_type": "code",
   "execution_count": null,
   "id": "9bf1d733-cdbc-4c37-8085-2a10eb505228",
   "metadata": {},
   "outputs": [],
   "source": [
    "df1['hashtag'].replace(to_replace=['[]'], value='Null', inplace=True)"
   ]
  },
  {
   "cell_type": "code",
   "execution_count": null,
   "id": "dcbd0046-16cf-46e3-905a-7c82b3b17241",
   "metadata": {},
   "outputs": [],
   "source": [
    "#change nan to Null in 'Outlinks', 'Countlinks', 'Media', 'QuotedTweet', 'MentionedUsers'"
   ]
  },
  {
   "cell_type": "code",
   "execution_count": null,
   "id": "cad5cca2-2dba-468f-9f02-438a1079afc8",
   "metadata": {},
   "outputs": [],
   "source": [
    "df1['mentioned_link'].replace(to_replace=['nan'], value='Null', inplace=True)"
   ]
  },
  {
   "cell_type": "code",
   "execution_count": null,
   "id": "f975a5e5-345f-4591-ae56-b8df7e3bd68f",
   "metadata": {},
   "outputs": [],
   "source": [
    "df1['media_present'].replace(to_replace=['nan'], value='Null', inplace=True)"
   ]
  },
  {
   "cell_type": "code",
   "execution_count": null,
   "id": "6e53f83d-d6d3-4c0d-a46a-4507c5a46793",
   "metadata": {},
   "outputs": [],
   "source": [
    "df1['quotedtweet'].replace(to_replace=['nan'], value='Null', inplace=True)"
   ]
  },
  {
   "cell_type": "code",
   "execution_count": null,
   "id": "7864a91b-aef5-4dc3-a321-c0c54a8cbc38",
   "metadata": {},
   "outputs": [],
   "source": [
    "df1['mentioned_users'].replace(to_replace=['nan'], value='Null', inplace=True)"
   ]
  },
  {
   "cell_type": "code",
   "execution_count": null,
   "id": "4ad03556-2ef4-47d6-a831-a4a20f77b4d4",
   "metadata": {},
   "outputs": [],
   "source": [
    "#Normalisation of text column"
   ]
  },
  {
   "cell_type": "code",
   "execution_count": null,
   "id": "c0d5e1bc-2824-4e3e-8e33-32d906800a0c",
   "metadata": {},
   "outputs": [],
   "source": [
    "def clean_text(X):\n",
    "    X = X.split()\n",
    "    X_new = [x for x in X if not x.startswith('https://')]\n",
    "    return ' '.join(X_new)\n",
    "\n",
    "df1['tweet'] = df1['tweet'].apply(clean_text)"
   ]
  },
  {
   "cell_type": "code",
   "execution_count": null,
   "id": "f127cfd5-e1f0-48c3-9350-8532995cdd6d",
   "metadata": {},
   "outputs": [],
   "source": [
    "def clean_text(X):\n",
    "    X = X.split()\n",
    "    X_new = [x for x in X if not x.startswith('@')]\n",
    "    return ' '.join(X_new)\n",
    "\n",
    "df1['tweet'] = df1['tweet'].apply(clean_text)"
   ]
  },
  {
   "cell_type": "code",
   "execution_count": null,
   "id": "e3fe19c5-d773-4eb7-8f64-f60cf4f93c3b",
   "metadata": {},
   "outputs": [],
   "source": [
    "def clean_text(X):\n",
    "    X = X.split()\n",
    "    X_new = [x for x in X if not x.startswith('#')]\n",
    "    return ' '.join(X_new)\n",
    "\n",
    "df1['tweet'] = df1['tweet'].apply(clean_text)"
   ]
  },
  {
   "cell_type": "raw",
   "id": "260c665a-66c3-453d-9787-86022a0b15c3",
   "metadata": {},
   "source": [
    "df1['clean_text']=df1['tweet'].str.replace('(\\@\\w+.*?)',\"\")"
   ]
  },
  {
   "cell_type": "raw",
   "id": "6be2fd2e-e783-4b7f-87fc-ec3347763542",
   "metadata": {},
   "source": [
    "df1['clean_text']=df1['tweet'].str.replace('(https://\\w+.*?)',\"\")"
   ]
  },
  {
   "cell_type": "code",
   "execution_count": null,
   "id": "12ec3853-4338-4bc6-a2ba-b66e75c11fa1",
   "metadata": {},
   "outputs": [],
   "source": [
    "df1.head()"
   ]
  },
  {
   "cell_type": "code",
   "execution_count": null,
   "id": "5e4ac160-4830-4130-9103-c4635adafafe",
   "metadata": {},
   "outputs": [],
   "source": [
    "#cleanning columns with links"
   ]
  },
  {
   "cell_type": "code",
   "execution_count": null,
   "id": "5deea821-d4ea-4a62-a1af-a14558784255",
   "metadata": {},
   "outputs": [],
   "source": [
    "df1['mentioned_link'] = df1['mentioned_link'].map(lambda x: x.lstrip(\"['\"))\n",
    "df1['mentioned_link'] = df1['mentioned_link'].map(lambda x: x.rstrip(\"']\"))"
   ]
  },
  {
   "cell_type": "code",
   "execution_count": null,
   "id": "0e378dea-129b-49ca-b125-7bd888aa84da",
   "metadata": {},
   "outputs": [],
   "source": [
    "df1['source_link'] = df1['source_link'].map(lambda x: x.lstrip('<a href=\"'))\n",
    "df1['source_link'] = df1['source_link'].map(lambda x: x.rstrip('a>'))"
   ]
  },
  {
   "cell_type": "code",
   "execution_count": null,
   "id": "5dd052e0-c45f-4455-bf5e-2f3672636415",
   "metadata": {},
   "outputs": [],
   "source": [
    "#check mentioned_users column"
   ]
  },
  {
   "cell_type": "code",
   "execution_count": null,
   "id": "65c9e237-f1f8-4107-8877-82ead491b43a",
   "metadata": {},
   "outputs": [],
   "source": [
    "#check hashtag column"
   ]
  },
  {
   "cell_type": "code",
   "execution_count": null,
   "id": "bddaa775-3dc9-4b4b-afcc-3a736f63be24",
   "metadata": {},
   "outputs": [],
   "source": [
    "#split into 4 different tables"
   ]
  },
  {
   "cell_type": "code",
   "execution_count": null,
   "id": "b08df29b-3996-4223-b3d8-a0bb24aaf41a",
   "metadata": {},
   "outputs": [],
   "source": [
    "#write to csv"
   ]
  },
  {
   "cell_type": "code",
   "execution_count": null,
   "id": "c9a0b285-6c1f-4aed-a565-f2d630ea4a7c",
   "metadata": {},
   "outputs": [],
   "source": [
    "df1.to_csv('chatgpt_e.csv', encoding='utf-8', index=False, header=True)"
   ]
  },
  {
   "cell_type": "code",
   "execution_count": null,
   "id": "8df2a5e8-2873-439f-8689-9e8d839c050a",
   "metadata": {},
   "outputs": [],
   "source": [
    "#check without encoding\n",
    "\n",
    "df1.to_csv('chatgpt_we.csv', index=False, header=True)"
   ]
  },
  {
   "cell_type": "code",
   "execution_count": null,
   "id": "2cb9aa7b-3cff-4b4e-8c81-4e9c16ff6189",
   "metadata": {},
   "outputs": [],
   "source": []
  }
 ],
 "metadata": {
  "kernelspec": {
   "display_name": "Python 3 (ipykernel)",
   "language": "python",
   "name": "python3"
  },
  "language_info": {
   "codemirror_mode": {
    "name": "ipython",
    "version": 3
   },
   "file_extension": ".py",
   "mimetype": "text/x-python",
   "name": "python",
   "nbconvert_exporter": "python",
   "pygments_lexer": "ipython3",
   "version": "3.9.13"
  }
 },
 "nbformat": 4,
 "nbformat_minor": 5
}
